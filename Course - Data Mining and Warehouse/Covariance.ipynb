{
 "cells": [
  {
   "cell_type": "markdown",
   "metadata": {},
   "source": [
    "# Covariance\n",
    "r(a, b) = n Exiyi - Exi Eyi / (n E(xi^2) - (Exi)^2)(n E(yi^2) - (Eyi)^2)"
   ]
  },
  {
   "cell_type": "code",
   "execution_count": 1,
   "metadata": {},
   "outputs": [],
   "source": [
    "import random\n",
    "a = []\n",
    "b = []\n",
    "c = []\n",
    "d = []\n",
    "for i in xrange(20):\n",
    "    a.append(random.randint(1, 10))\n",
    "    b.append(random.randint(1, 10))\n",
    "    c.append(random.randint(1, 10))\n",
    "    d.append(random.randint(1, 10))"
   ]
  },
  {
   "cell_type": "code",
   "execution_count": 2,
   "metadata": {},
   "outputs": [
    {
     "name": "stdout",
     "output_type": "stream",
     "text": [
      "-4.69135303287e-05\n"
     ]
    }
   ],
   "source": [
    "ans1 = 0.0\n",
    "ans2 = 0.0\n",
    "ans3 = 0.0\n",
    "ans4 = 0.0\n",
    "ans5 = 0.0\n",
    "ans6 = 0.0\n",
    "ans7 = 0.0\n",
    "for i in xrange(len(a)):\n",
    "    ans1 += a[i] * b[i]\n",
    "    ans2 += a[i]\n",
    "    ans3 += b[i]\n",
    "    ans4 += a[i] ** 2\n",
    "    ans5 += a[i]\n",
    "    ans6 += b[i] ** 2\n",
    "    ans7 += b[i]\n",
    "result = ((len(a) * ans1) - (ans2 * ans3)) / (((len(a) * ans4) - (ans5 ** 2)) * ((len(a) * ans6) - (ans7 ** 2))) * 1.0\n",
    "print result"
   ]
  },
  {
   "cell_type": "code",
   "execution_count": 3,
   "metadata": {},
   "outputs": [
    {
     "name": "stdout",
     "output_type": "stream",
     "text": [
      "0.000126690122762\n"
     ]
    }
   ],
   "source": [
    "ans1 = 0.0\n",
    "ans2 = 0.0\n",
    "ans3 = 0.0\n",
    "ans4 = 0.0\n",
    "ans5 = 0.0\n",
    "ans6 = 0.0\n",
    "ans7 = 0.0\n",
    "for i in xrange(len(a)):\n",
    "    ans1 += b[i] * c[i]\n",
    "    ans2 += b[i]\n",
    "    ans3 += c[i]\n",
    "    ans4 += b[i] ** 2\n",
    "    ans5 += b[i]\n",
    "    ans6 += c[i] ** 2\n",
    "    ans7 += c[i]\n",
    "result = ((len(a) * ans1) - (ans2 * ans3)) / (((len(a) * ans4) - (ans5 ** 2)) * ((len(a) * ans6) - (ans7 ** 2))) * 1.0\n",
    "print result"
   ]
  },
  {
   "cell_type": "code",
   "execution_count": 4,
   "metadata": {},
   "outputs": [
    {
     "name": "stdout",
     "output_type": "stream",
     "text": [
      "-4.06084303101e-05\n"
     ]
    }
   ],
   "source": [
    "ans1 = 0.0\n",
    "ans2 = 0.0\n",
    "ans3 = 0.0\n",
    "ans4 = 0.0\n",
    "ans5 = 0.0\n",
    "ans6 = 0.0\n",
    "ans7 = 0.0\n",
    "for i in xrange(len(a)):\n",
    "    ans1 += c[i] * d[i]\n",
    "    ans2 += c[i]\n",
    "    ans3 += d[i]\n",
    "    ans4 += c[i] ** 2\n",
    "    ans5 += c[i]\n",
    "    ans6 += d[i] ** 2\n",
    "    ans7 += d[i]\n",
    "result = ((len(a) * ans1) - (ans2 * ans3)) / (((len(a) * ans4) - (ans5 ** 2)) * ((len(a) * ans6) - (ans7 ** 2))) * 1.0\n",
    "print result"
   ]
  },
  {
   "cell_type": "code",
   "execution_count": 5,
   "metadata": {},
   "outputs": [
    {
     "name": "stdout",
     "output_type": "stream",
     "text": [
      "-0.000185429673901\n"
     ]
    }
   ],
   "source": [
    "ans1 = 0.0\n",
    "ans2 = 0.0\n",
    "ans3 = 0.0\n",
    "ans4 = 0.0\n",
    "ans5 = 0.0\n",
    "ans6 = 0.0\n",
    "ans7 = 0.0\n",
    "for i in xrange(len(a)):\n",
    "    ans1 += a[i] * d[i]\n",
    "    ans2 += a[i]\n",
    "    ans3 += d[i]\n",
    "    ans4 += a[i] ** 2\n",
    "    ans5 += a[i]\n",
    "    ans6 += d[i] ** 2\n",
    "    ans7 += d[i]\n",
    "result = ((len(a) * ans1) - (ans2 * ans3)) / (((len(a) * ans4) - (ans5 ** 2)) * ((len(a) * ans6) - (ans7 ** 2))) * 1.0\n",
    "print result"
   ]
  },
  {
   "cell_type": "code",
   "execution_count": null,
   "metadata": {
    "collapsed": true
   },
   "outputs": [],
   "source": []
  }
 ],
 "metadata": {
  "kernelspec": {
   "display_name": "Python 2",
   "language": "python",
   "name": "python2"
  },
  "language_info": {
   "codemirror_mode": {
    "name": "ipython",
    "version": 2
   },
   "file_extension": ".py",
   "mimetype": "text/x-python",
   "name": "python",
   "nbconvert_exporter": "python",
   "pygments_lexer": "ipython2",
   "version": "2.7.13"
  }
 },
 "nbformat": 4,
 "nbformat_minor": 2
}
