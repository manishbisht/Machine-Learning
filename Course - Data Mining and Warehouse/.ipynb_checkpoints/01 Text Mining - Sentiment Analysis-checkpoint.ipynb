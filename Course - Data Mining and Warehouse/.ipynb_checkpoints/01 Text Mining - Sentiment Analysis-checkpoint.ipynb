{
 "cells": [
  {
   "cell_type": "markdown",
   "metadata": {},
   "source": [
    "# Sentiment Analysis\n",
    "- nltk (natural language toolkit) is a open source natural language processing library for python. It is capable of textual tokenisation, parsing, classification, stemming, tagging, semantic reasoning and other computational linguistics. Install it via pip using command `pip install nltk`\n",
    "- **Tokenization** is the process of breaking a stream of text up into words, phrases, symbols, or other meaningful elements called tokens.\n",
    "\n",
    "## Method 1\n",
    "nltk comes with inbuilt sentiment analyser module *nltk.sentiment.vader* that can analyse a piece of text and classify the sentences under positive, negative and neutral polarity of sentiments."
   ]
  },
  {
   "cell_type": "code",
   "execution_count": 1,
   "metadata": {},
   "outputs": [
    {
     "name": "stderr",
     "output_type": "stream",
     "text": [
      "/home/manish/Desktop/anaconda2/lib/python2.7/site-packages/nltk/twitter/__init__.py:20: UserWarning: The twython library has not been installed. Some functionality from the twitter package will not be available.\n",
      "  warnings.warn(\"The twython library has not been installed. \"\n"
     ]
    }
   ],
   "source": [
    "import nltk\n",
    "from nltk.sentiment.vader import SentimentIntensityAnalyzer"
   ]
  },
  {
   "cell_type": "code",
   "execution_count": 2,
   "metadata": {},
   "outputs": [],
   "source": [
    "# Download data if not available\n",
    "# nltk.download()"
   ]
  },
  {
   "cell_type": "code",
   "execution_count": 3,
   "metadata": {
    "collapsed": true
   },
   "outputs": [],
   "source": [
    "sentence = 'This phone is good'"
   ]
  },
  {
   "cell_type": "code",
   "execution_count": 4,
   "metadata": {
    "collapsed": true
   },
   "outputs": [],
   "source": [
    "sentiment_analyser = SentimentIntensityAnalyzer()"
   ]
  },
  {
   "cell_type": "code",
   "execution_count": 5,
   "metadata": {},
   "outputs": [
    {
     "name": "stdout",
     "output_type": "stream",
     "text": [
      "{'neg': 0.0, 'neu': 0.508, 'pos': 0.492, 'compound': 0.4404}\n"
     ]
    }
   ],
   "source": [
    "result = sentiment_analyser.polarity_scores(sentence)\n",
    "print result"
   ]
  },
  {
   "cell_type": "code",
   "execution_count": 6,
   "metadata": {
    "collapsed": true
   },
   "outputs": [],
   "source": [
    "# Reviwes copied from flipkart and amazon websites\n",
    "kindle_paperwhite_review = \"Perfect size, thin enough to not be bulky, yet still be holdable.\"\n",
    "apple_iphone7_review = \"I have got this phone last month and its charger not functioning properly.\"\n",
    "google_pixelxl_review = \"Excellent phone, good build and super Android experience.\"\n",
    "apple_macbookpro_review = \"Flipkart canceled at the last moment. What a boat load of cheats\"\n",
    "reviews = [kindle_paperwhite_review, apple_iphone7_review, google_pixelxl_review, apple_macbookpro_review]"
   ]
  },
  {
   "cell_type": "code",
   "execution_count": 7,
   "metadata": {},
   "outputs": [
    {
     "name": "stdout",
     "output_type": "stream",
     "text": [
      "{'neg': 0.0, 'neu': 0.748, 'pos': 0.252, 'compound': 0.5719}\n",
      "{'neg': 0.0, 'neu': 1.0, 'pos': 0.0, 'compound': 0.0}\n",
      "{'neg': 0.0, 'neu': 0.323, 'pos': 0.677, 'compound': 0.8885}\n",
      "{'neg': 0.219, 'neu': 0.781, 'pos': 0.0, 'compound': -0.4215}\n"
     ]
    }
   ],
   "source": [
    "for review in reviews:\n",
    "    result = sentiment_analyser.polarity_scores(review)\n",
    "    print result"
   ]
  },
  {
   "cell_type": "markdown",
   "metadata": {},
   "source": [
    "## Method 2\n",
    "Naive’s Bayes Classifier is a probabilistic classifier based on Bayes’ theorem that constructs a classification model out of training data. This classifier learns to classify the reviews to positive or negative using the supervised learning mechanism. The learning process starts by feeding in sample data that aids the classifier to construct a model to classify these reviews."
   ]
  },
  {
   "cell_type": "code",
   "execution_count": 8,
   "metadata": {
    "collapsed": true
   },
   "outputs": [],
   "source": [
    "train_data = [\n",
    "    (kindle_paperwhite_review, \"positive review\"),\n",
    "    (apple_iphone7_review, \"negitive review\"),\n",
    "    (google_pixelxl_review, \"positive review\"),\n",
    "    (apple_macbookpro_review, \"negitive review\")\n",
    "]"
   ]
  },
  {
   "cell_type": "code",
   "execution_count": 9,
   "metadata": {},
   "outputs": [
    {
     "name": "stdout",
     "output_type": "stream",
     "text": [
      "set(['Perfect', 'and', 'What', 'month', 'canceled', 'cheats', 'at', 'have', 'Android', 'still', 'yet', 'its', 'boat', 'size', 'functioning', 'holdable', 'bulky', ',', 'load', '.', 'to', 'enough', 'build', 'Excellent', 'got', 'be', 'good', 'I', 'phone', 'moment', 'properly', 'not', 'super', 'Flipkart', 'a', 'last', 'this', 'charger', 'experience', 'thin', 'of', 'the'])\n"
     ]
    }
   ],
   "source": [
    "dictionary = set(word for review in train_data for word in nltk.word_tokenize(review[0]))\n",
    "print dictionary"
   ]
  },
  {
   "cell_type": "code",
   "execution_count": 10,
   "metadata": {},
   "outputs": [
    {
     "name": "stdout",
     "output_type": "stream",
     "text": [
      "[({'Perfect': True, 'and': False, 'What': False, 'month': False, 'canceled': False, 'cheats': False, 'at': False, 'have': False, 'Android': False, 'functioning': False, 'yet': True, 'its': False, 'boat': False, 'size': True, 'still': True, 'holdable': True, 'bulky': True, ',': True, 'load': False, '.': True, 'to': True, 'enough': True, 'build': False, 'Excellent': False, 'got': False, 'be': True, 'good': False, 'I': False, 'phone': False, 'moment': False, 'properly': False, 'not': True, 'super': False, 'Flipkart': False, 'a': False, 'last': False, 'this': False, 'charger': False, 'experience': False, 'thin': True, 'of': False, 'the': False}, 'positive review'), ({'Perfect': False, 'and': True, 'What': False, 'month': True, 'canceled': False, 'cheats': False, 'at': False, 'have': True, 'Android': False, 'functioning': True, 'yet': False, 'its': True, 'boat': False, 'size': False, 'still': False, 'holdable': False, 'bulky': False, ',': False, 'load': False, '.': True, 'to': False, 'enough': False, 'build': False, 'Excellent': False, 'got': True, 'be': False, 'good': False, 'I': True, 'phone': True, 'moment': False, 'properly': True, 'not': True, 'super': False, 'Flipkart': False, 'a': False, 'last': True, 'this': True, 'charger': True, 'experience': False, 'thin': False, 'of': False, 'the': False}, 'negitive review'), ({'Perfect': False, 'and': True, 'What': False, 'month': False, 'canceled': False, 'cheats': False, 'at': False, 'have': False, 'Android': True, 'functioning': False, 'yet': False, 'its': False, 'boat': False, 'size': False, 'still': False, 'holdable': False, 'bulky': False, ',': True, 'load': False, '.': True, 'to': False, 'enough': False, 'build': True, 'Excellent': True, 'got': False, 'be': False, 'good': True, 'I': False, 'phone': True, 'moment': False, 'properly': False, 'not': False, 'super': True, 'Flipkart': False, 'a': False, 'last': False, 'this': False, 'charger': False, 'experience': True, 'thin': False, 'of': False, 'the': False}, 'positive review'), ({'Perfect': False, 'and': False, 'What': True, 'month': False, 'canceled': True, 'cheats': True, 'at': True, 'have': False, 'Android': False, 'functioning': False, 'yet': False, 'its': False, 'boat': True, 'size': False, 'still': False, 'holdable': False, 'bulky': False, ',': False, 'load': True, '.': True, 'to': False, 'enough': False, 'build': False, 'Excellent': False, 'got': False, 'be': False, 'good': False, 'I': False, 'phone': False, 'moment': True, 'properly': False, 'not': False, 'super': False, 'Flipkart': True, 'a': True, 'last': True, 'this': False, 'charger': False, 'experience': False, 'thin': False, 'of': True, 'the': True}, 'negitive review')]\n"
     ]
    }
   ],
   "source": [
    "train_features = [({word: (word in nltk.word_tokenize(review[0])) for word in dictionary}, review[1]) for review in train_data]\n",
    "print train_features"
   ]
  },
  {
   "cell_type": "code",
   "execution_count": 11,
   "metadata": {
    "collapsed": true
   },
   "outputs": [],
   "source": [
    "classifier = nltk.NaiveBayesClassifier.train(train_features)"
   ]
  },
  {
   "cell_type": "code",
   "execution_count": 12,
   "metadata": {},
   "outputs": [
    {
     "name": "stdout",
     "output_type": "stream",
     "text": [
      "{'Perfect': False, 'and': False, 'What': False, 'month': False, 'canceled': False, 'cheats': False, 'at': False, 'have': False, 'Android': False, 'functioning': False, 'yet': False, 'its': False, 'boat': False, 'size': False, 'still': False, 'holdable': False, 'bulky': False, ',': False, 'load': False, '.': True, 'to': False, 'enough': False, 'build': False, 'Excellent': True, 'got': False, 'be': False, 'good': False, 'I': False, 'phone': False, 'moment': False, 'properly': False, 'not': False, 'super': False, 'Flipkart': False, 'a': False, 'last': False, 'this': False, 'charger': False, 'experience': False, 'thin': False, 'of': False, 'the': False}\n"
     ]
    }
   ],
   "source": [
    "apple_imac_review = \"Excellent product for normal computing work including browsing.\"\n",
    "apple_imac_review_feature = {word: (word in nltk.word_tokenize(apple_imac_review)) for word in dictionary}\n",
    "print apple_imac_review_feature"
   ]
  },
  {
   "cell_type": "code",
   "execution_count": 13,
   "metadata": {},
   "outputs": [
    {
     "name": "stdout",
     "output_type": "stream",
     "text": [
      "positive review\n"
     ]
    }
   ],
   "source": [
    "print classifier.classify(apple_imac_review_feature)"
   ]
  },
  {
   "cell_type": "code",
   "execution_count": 14,
   "metadata": {},
   "outputs": [
    {
     "name": "stdout",
     "output_type": "stream",
     "text": [
      "{'Perfect': False, 'and': False, 'What': False, 'month': False, 'canceled': False, 'cheats': False, 'at': False, 'have': False, 'Android': False, 'functioning': True, 'yet': False, 'its': False, 'boat': False, 'size': False, 'still': False, 'holdable': False, 'bulky': False, ',': False, 'load': False, '.': False, 'to': False, 'enough': False, 'build': False, 'Excellent': False, 'got': False, 'be': False, 'good': False, 'I': False, 'phone': False, 'moment': False, 'properly': True, 'not': True, 'super': False, 'Flipkart': False, 'a': False, 'last': False, 'this': False, 'charger': False, 'experience': False, 'thin': False, 'of': False, 'the': False}\n"
     ]
    }
   ],
   "source": [
    "asus_rog_review = \"It is not functioning properly\"\n",
    "asus_rog_review_features = {word: (word in nltk.word_tokenize(asus_rog_review)) for word in dictionary}\n",
    "print asus_rog_review_features"
   ]
  },
  {
   "cell_type": "code",
   "execution_count": 15,
   "metadata": {},
   "outputs": [
    {
     "name": "stdout",
     "output_type": "stream",
     "text": [
      "negitive review\n"
     ]
    }
   ],
   "source": [
    "print classifier.classify(asus_rog_review_features)"
   ]
  },
  {
   "cell_type": "markdown",
   "metadata": {},
   "source": [
    "# Resources\n",
    "- http://www.nltk.org/howto/sentiment.html\n",
    "- http://www.nltk.org/api/nltk.sentiment.html\n",
    "- http://www.nltk.org/_modules/nltk/sentiment/vader.html\n",
    "- http://opensourceforu.com/2016/12/analysing-sentiments-nltk/"
   ]
  }
 ],
 "metadata": {
  "kernelspec": {
   "display_name": "Python 2",
   "language": "python",
   "name": "python2"
  },
  "language_info": {
   "codemirror_mode": {
    "name": "ipython",
    "version": 2
   },
   "file_extension": ".py",
   "mimetype": "text/x-python",
   "name": "python",
   "nbconvert_exporter": "python",
   "pygments_lexer": "ipython2",
   "version": "2.7.13"
  }
 },
 "nbformat": 4,
 "nbformat_minor": 2
}
