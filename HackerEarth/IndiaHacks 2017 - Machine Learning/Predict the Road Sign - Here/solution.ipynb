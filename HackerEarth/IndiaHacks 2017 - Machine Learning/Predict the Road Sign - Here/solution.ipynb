{
 "cells": [
  {
   "cell_type": "code",
   "execution_count": 11,
   "metadata": {
    "collapsed": true
   },
   "outputs": [],
   "source": [
    "import pandas as pd\n",
    "from sklearn.ensemble import RandomForestClassifier"
   ]
  },
  {
   "cell_type": "code",
   "execution_count": 12,
   "metadata": {
    "collapsed": true
   },
   "outputs": [],
   "source": [
    "train = pd.read_csv('train.csv')\n",
    "test = pd.read_csv('test.csv')"
   ]
  },
  {
   "cell_type": "code",
   "execution_count": 13,
   "metadata": {},
   "outputs": [
    {
     "data": {
      "text/html": [
       "<div>\n",
       "<style>\n",
       "    .dataframe thead tr:only-child th {\n",
       "        text-align: right;\n",
       "    }\n",
       "\n",
       "    .dataframe thead th {\n",
       "        text-align: left;\n",
       "    }\n",
       "\n",
       "    .dataframe tbody tr th {\n",
       "        vertical-align: top;\n",
       "    }\n",
       "</style>\n",
       "<table border=\"1\" class=\"dataframe\">\n",
       "  <thead>\n",
       "    <tr style=\"text-align: right;\">\n",
       "      <th></th>\n",
       "      <th>Id</th>\n",
       "      <th>DetectedCamera</th>\n",
       "      <th>AngleOfSign</th>\n",
       "      <th>SignAspectRatio</th>\n",
       "      <th>SignWidth</th>\n",
       "      <th>SignHeight</th>\n",
       "      <th>SignFacing (Target)</th>\n",
       "    </tr>\n",
       "  </thead>\n",
       "  <tbody>\n",
       "    <tr>\n",
       "      <th>0</th>\n",
       "      <td>2c9180975a056a64015a1e0a52e57021</td>\n",
       "      <td>Rear</td>\n",
       "      <td>195</td>\n",
       "      <td>1.02</td>\n",
       "      <td>46</td>\n",
       "      <td>45</td>\n",
       "      <td>Rear</td>\n",
       "    </tr>\n",
       "    <tr>\n",
       "      <th>1</th>\n",
       "      <td>2c9180975a056a64015a1e17b32171e4</td>\n",
       "      <td>Rear</td>\n",
       "      <td>203</td>\n",
       "      <td>1.09</td>\n",
       "      <td>59</td>\n",
       "      <td>54</td>\n",
       "      <td>Rear</td>\n",
       "    </tr>\n",
       "    <tr>\n",
       "      <th>2</th>\n",
       "      <td>2c9180975a056a64015a1de4deb16bd5</td>\n",
       "      <td>Front</td>\n",
       "      <td>26</td>\n",
       "      <td>0.96</td>\n",
       "      <td>104</td>\n",
       "      <td>108</td>\n",
       "      <td>Front</td>\n",
       "    </tr>\n",
       "    <tr>\n",
       "      <th>3</th>\n",
       "      <td>2c9180975a056a64015a1de4deb16bdd</td>\n",
       "      <td>Rear</td>\n",
       "      <td>199</td>\n",
       "      <td>0.81</td>\n",
       "      <td>38</td>\n",
       "      <td>47</td>\n",
       "      <td>Rear</td>\n",
       "    </tr>\n",
       "    <tr>\n",
       "      <th>4</th>\n",
       "      <td>2c9180975a056a64015a1de4deb16bd6</td>\n",
       "      <td>Rear</td>\n",
       "      <td>208</td>\n",
       "      <td>0.93</td>\n",
       "      <td>54</td>\n",
       "      <td>58</td>\n",
       "      <td>Rear</td>\n",
       "    </tr>\n",
       "  </tbody>\n",
       "</table>\n",
       "</div>"
      ],
      "text/plain": [
       "                                 Id DetectedCamera  AngleOfSign  \\\n",
       "0  2c9180975a056a64015a1e0a52e57021           Rear          195   \n",
       "1  2c9180975a056a64015a1e17b32171e4           Rear          203   \n",
       "2  2c9180975a056a64015a1de4deb16bd5          Front           26   \n",
       "3  2c9180975a056a64015a1de4deb16bdd           Rear          199   \n",
       "4  2c9180975a056a64015a1de4deb16bd6           Rear          208   \n",
       "\n",
       "   SignAspectRatio  SignWidth  SignHeight SignFacing (Target)  \n",
       "0             1.02         46          45                Rear  \n",
       "1             1.09         59          54                Rear  \n",
       "2             0.96        104         108               Front  \n",
       "3             0.81         38          47                Rear  \n",
       "4             0.93         54          58                Rear  "
      ]
     },
     "execution_count": 13,
     "metadata": {},
     "output_type": "execute_result"
    }
   ],
   "source": [
    "train.head()"
   ]
  },
  {
   "cell_type": "code",
   "execution_count": 14,
   "metadata": {},
   "outputs": [
    {
     "data": {
      "text/html": [
       "<div>\n",
       "<style>\n",
       "    .dataframe thead tr:only-child th {\n",
       "        text-align: right;\n",
       "    }\n",
       "\n",
       "    .dataframe thead th {\n",
       "        text-align: left;\n",
       "    }\n",
       "\n",
       "    .dataframe tbody tr th {\n",
       "        vertical-align: top;\n",
       "    }\n",
       "</style>\n",
       "<table border=\"1\" class=\"dataframe\">\n",
       "  <thead>\n",
       "    <tr style=\"text-align: right;\">\n",
       "      <th></th>\n",
       "      <th>Id</th>\n",
       "      <th>DetectedCamera</th>\n",
       "      <th>AngleOfSign</th>\n",
       "      <th>SignAspectRatio</th>\n",
       "      <th>SignWidth</th>\n",
       "      <th>SignHeight</th>\n",
       "    </tr>\n",
       "  </thead>\n",
       "  <tbody>\n",
       "    <tr>\n",
       "      <th>0</th>\n",
       "      <td>2c9180975a056a64015a1e10d3f270fe</td>\n",
       "      <td>Right</td>\n",
       "      <td>67</td>\n",
       "      <td>0.63</td>\n",
       "      <td>107</td>\n",
       "      <td>169</td>\n",
       "    </tr>\n",
       "    <tr>\n",
       "      <th>1</th>\n",
       "      <td>2c9180975a056a64015a1de4deb16bdc</td>\n",
       "      <td>Front</td>\n",
       "      <td>16</td>\n",
       "      <td>0.88</td>\n",
       "      <td>61</td>\n",
       "      <td>69</td>\n",
       "    </tr>\n",
       "    <tr>\n",
       "      <th>2</th>\n",
       "      <td>2c9180975a056a64015a1e0e70ea70ce</td>\n",
       "      <td>Right</td>\n",
       "      <td>44</td>\n",
       "      <td>1.15</td>\n",
       "      <td>232</td>\n",
       "      <td>202</td>\n",
       "    </tr>\n",
       "    <tr>\n",
       "      <th>3</th>\n",
       "      <td>2c9180975a056a64015a1dfed0c46ec6</td>\n",
       "      <td>Right</td>\n",
       "      <td>50</td>\n",
       "      <td>1.10</td>\n",
       "      <td>137</td>\n",
       "      <td>125</td>\n",
       "    </tr>\n",
       "    <tr>\n",
       "      <th>4</th>\n",
       "      <td>2c9180975a056a64015a1dfed0c46ec7</td>\n",
       "      <td>Front</td>\n",
       "      <td>30</td>\n",
       "      <td>0.95</td>\n",
       "      <td>99</td>\n",
       "      <td>104</td>\n",
       "    </tr>\n",
       "  </tbody>\n",
       "</table>\n",
       "</div>"
      ],
      "text/plain": [
       "                                 Id DetectedCamera  AngleOfSign  \\\n",
       "0  2c9180975a056a64015a1e10d3f270fe          Right           67   \n",
       "1  2c9180975a056a64015a1de4deb16bdc          Front           16   \n",
       "2  2c9180975a056a64015a1e0e70ea70ce          Right           44   \n",
       "3  2c9180975a056a64015a1dfed0c46ec6          Right           50   \n",
       "4  2c9180975a056a64015a1dfed0c46ec7          Front           30   \n",
       "\n",
       "   SignAspectRatio  SignWidth  SignHeight  \n",
       "0             0.63        107         169  \n",
       "1             0.88         61          69  \n",
       "2             1.15        232         202  \n",
       "3             1.10        137         125  \n",
       "4             0.95         99         104  "
      ]
     },
     "execution_count": 14,
     "metadata": {},
     "output_type": "execute_result"
    }
   ],
   "source": [
    "test.head()"
   ]
  },
  {
   "cell_type": "code",
   "execution_count": 15,
   "metadata": {},
   "outputs": [
    {
     "data": {
      "text/plain": [
       "Front    10910\n",
       "Right    10516\n",
       "Left      9298\n",
       "Rear      7761\n",
       "Name: DetectedCamera, dtype: int64"
      ]
     },
     "execution_count": 15,
     "metadata": {},
     "output_type": "execute_result"
    }
   ],
   "source": [
    "train['DetectedCamera'].value_counts()"
   ]
  },
  {
   "cell_type": "code",
   "execution_count": 16,
   "metadata": {
    "collapsed": true
   },
   "outputs": [],
   "source": [
    "#Encode as Integer\n",
    "mapping = {'Front': 0, 'Right': 1, 'Left': 2, 'Rear': 3}\n",
    "train = train.replace({'DetectedCamera': mapping})\n",
    "test = test.replace({'DetectedCamera': mapping})"
   ]
  },
  {
   "cell_type": "code",
   "execution_count": 17,
   "metadata": {
    "collapsed": true
   },
   "outputs": [],
   "source": [
    "#Rename Column\n",
    "train.rename(columns={'SignFacing (Target)': 'Target'}, inplace=True)"
   ]
  },
  {
   "cell_type": "code",
   "execution_count": 18,
   "metadata": {
    "collapsed": true
   },
   "outputs": [],
   "source": [
    "#Encode Target Variable based on sample submission file\n",
    "mapping = {'Front': 0, 'Left': 1, 'Rear': 2, 'Right': 3}\n",
    "train = train.replace({'Target': mapping})"
   ]
  },
  {
   "cell_type": "code",
   "execution_count": 19,
   "metadata": {},
   "outputs": [],
   "source": [
    "#Target Variable\n",
    "y_train = train['Target']\n",
    "test_id = test['Id']"
   ]
  },
  {
   "cell_type": "code",
   "execution_count": 20,
   "metadata": {
    "collapsed": true
   },
   "outputs": [],
   "source": [
    "#Drop Column\n",
    "train.drop(['Target', 'Id'], inplace=True, axis=1)\n",
    "test.drop('Id', inplace=True, axis=1)"
   ]
  },
  {
   "cell_type": "code",
   "execution_count": 21,
   "metadata": {},
   "outputs": [
    {
     "data": {
      "text/plain": [
       "RandomForestClassifier(bootstrap=True, class_weight=None, criterion='gini',\n",
       "            max_depth=None, max_features=3, max_leaf_nodes=None,\n",
       "            min_impurity_split=5, min_samples_leaf=1, min_samples_split=2,\n",
       "            min_weight_fraction_leaf=0.0, n_estimators=500, n_jobs=1,\n",
       "            oob_score=True, random_state=None, verbose=0, warm_start=False)"
      ]
     },
     "execution_count": 21,
     "metadata": {},
     "output_type": "execute_result"
    }
   ],
   "source": [
    "#Train Model\n",
    "clf = RandomForestClassifier(n_estimators=500, max_features=3, min_impurity_split=5, oob_score=True)\n",
    "clf.fit(train, y_train)"
   ]
  },
  {
   "cell_type": "code",
   "execution_count": 22,
   "metadata": {
    "collapsed": true
   },
   "outputs": [],
   "source": [
    "#Predict on test data\n",
    "pred = clf.predict_proba(test)"
   ]
  },
  {
   "cell_type": "code",
   "execution_count": 23,
   "metadata": {
    "collapsed": true
   },
   "outputs": [],
   "source": [
    "#Write submission file\n",
    "columns = ['Front', 'Left', 'Rear', 'Right']\n",
    "sub = pd.DataFrame(data=pred, columns=columns)\n",
    "sub['Id'] = test_id\n",
    "sub = sub[['Id', 'Front', 'Left', 'Rear', 'Right']]\n",
    "sub.to_csv('submission.csv', index=False)"
   ]
  },
  {
   "cell_type": "code",
   "execution_count": null,
   "metadata": {
    "collapsed": true
   },
   "outputs": [],
   "source": []
  }
 ],
 "metadata": {
  "kernelspec": {
   "display_name": "Python 2",
   "language": "python",
   "name": "python2"
  },
  "language_info": {
   "codemirror_mode": {
    "name": "ipython",
    "version": 2
   },
   "file_extension": ".py",
   "mimetype": "text/x-python",
   "name": "python",
   "nbconvert_exporter": "python",
   "pygments_lexer": "ipython2",
   "version": "2.7.13"
  }
 },
 "nbformat": 4,
 "nbformat_minor": 2
}
